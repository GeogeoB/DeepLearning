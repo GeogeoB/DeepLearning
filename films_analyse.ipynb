{
 "cells": [
  {
   "cell_type": "code",
   "execution_count": 2,
   "id": "5f1df5d1-55e6-4edb-a9f0-0d33195b0b75",
   "metadata": {},
   "outputs": [],
   "source": [
    "import pandas as pd\n",
    "from tqdm import tqdm\n",
    "import json\n",
    "import matplotlib.pyplot as plt\n",
    "import numpy as np\n",
    "import random as rd"
   ]
  },
  {
   "cell_type": "code",
   "execution_count": 3,
   "id": "3f66d904-d844-4101-b4cf-92b3e3d2fb4a",
   "metadata": {},
   "outputs": [],
   "source": [
    "df = pd.read_csv('films.csv')"
   ]
  },
  {
   "cell_type": "code",
   "execution_count": 4,
   "id": "7ef60538-fc21-4726-a2a0-11fc65dff2f1",
   "metadata": {},
   "outputs": [
    {
     "data": {
      "text/html": [
       "<div>\n",
       "<style scoped>\n",
       "    .dataframe tbody tr th:only-of-type {\n",
       "        vertical-align: middle;\n",
       "    }\n",
       "\n",
       "    .dataframe tbody tr th {\n",
       "        vertical-align: top;\n",
       "    }\n",
       "\n",
       "    .dataframe thead th {\n",
       "        text-align: right;\n",
       "    }\n",
       "</style>\n",
       "<table border=\"1\" class=\"dataframe\">\n",
       "  <thead>\n",
       "    <tr style=\"text-align: right;\">\n",
       "      <th></th>\n",
       "      <th>web-scraper-order</th>\n",
       "      <th>web-scraper-start-url</th>\n",
       "      <th>films</th>\n",
       "      <th>films-href</th>\n",
       "      <th>title</th>\n",
       "      <th>genres</th>\n",
       "      <th>image-src</th>\n",
       "      <th>number</th>\n",
       "    </tr>\n",
       "  </thead>\n",
       "  <tbody>\n",
       "    <tr>\n",
       "      <th>0</th>\n",
       "      <td>1678809742-1462</td>\n",
       "      <td>https://letterboxd.com/prof_ratigan/list/top-5...</td>\n",
       "      <td>Mortal World (2018)</td>\n",
       "      <td>https://letterboxd.com/film/mortal-world/</td>\n",
       "      <td>Mortal World</td>\n",
       "      <td>[{\"genres\":\"action\"},{\"genres\":\"comedy\"}]</td>\n",
       "      <td>https://a.ltrbxd.com/resized/film-poster/4/2/9...</td>\n",
       "      <td>5000</td>\n",
       "    </tr>\n",
       "    <tr>\n",
       "      <th>1</th>\n",
       "      <td>1678809744-1463</td>\n",
       "      <td>https://letterboxd.com/prof_ratigan/list/top-5...</td>\n",
       "      <td>A Ghost Story (2017)</td>\n",
       "      <td>https://letterboxd.com/film/a-ghost-story-2017/</td>\n",
       "      <td>A Ghost Story</td>\n",
       "      <td>[{\"genres\":\"drama\"},{\"genres\":\"fantasy\"}]</td>\n",
       "      <td>https://a.ltrbxd.com/resized/sm/upload/zx/51/y...</td>\n",
       "      <td>4999</td>\n",
       "    </tr>\n",
       "    <tr>\n",
       "      <th>2</th>\n",
       "      <td>1678809747-1464</td>\n",
       "      <td>https://letterboxd.com/prof_ratigan/list/top-5...</td>\n",
       "      <td>Raining Stones (1993)</td>\n",
       "      <td>https://letterboxd.com/film/raining-stones/</td>\n",
       "      <td>Raining Stones</td>\n",
       "      <td>[{\"genres\":\"comedy\"},{\"genres\":\"drama\"}]</td>\n",
       "      <td>https://a.ltrbxd.com/resized/film-poster/4/3/1...</td>\n",
       "      <td>4998</td>\n",
       "    </tr>\n",
       "    <tr>\n",
       "      <th>3</th>\n",
       "      <td>1678809749-1465</td>\n",
       "      <td>https://letterboxd.com/prof_ratigan/list/top-5...</td>\n",
       "      <td>The Needle (1988)</td>\n",
       "      <td>https://letterboxd.com/film/the-needle/</td>\n",
       "      <td>The Needle</td>\n",
       "      <td>[{\"genres\":\"mystery\"},{\"genres\":\"drama\"},{\"gen...</td>\n",
       "      <td>https://a.ltrbxd.com/resized/film-poster/3/8/7...</td>\n",
       "      <td>4997</td>\n",
       "    </tr>\n",
       "    <tr>\n",
       "      <th>4</th>\n",
       "      <td>1678809752-1466</td>\n",
       "      <td>https://letterboxd.com/prof_ratigan/list/top-5...</td>\n",
       "      <td>Colorful (2010)</td>\n",
       "      <td>https://letterboxd.com/film/colorful/</td>\n",
       "      <td>Colorful</td>\n",
       "      <td>[{\"genres\":\"drama\"},{\"genres\":\"animation\"},{\"g...</td>\n",
       "      <td>https://a.ltrbxd.com/resized/film-poster/1/8/8...</td>\n",
       "      <td>4996</td>\n",
       "    </tr>\n",
       "  </tbody>\n",
       "</table>\n",
       "</div>"
      ],
      "text/plain": [
       "  web-scraper-order                              web-scraper-start-url  \\\n",
       "0   1678809742-1462  https://letterboxd.com/prof_ratigan/list/top-5...   \n",
       "1   1678809744-1463  https://letterboxd.com/prof_ratigan/list/top-5...   \n",
       "2   1678809747-1464  https://letterboxd.com/prof_ratigan/list/top-5...   \n",
       "3   1678809749-1465  https://letterboxd.com/prof_ratigan/list/top-5...   \n",
       "4   1678809752-1466  https://letterboxd.com/prof_ratigan/list/top-5...   \n",
       "\n",
       "                   films                                       films-href  \\\n",
       "0    Mortal World (2018)        https://letterboxd.com/film/mortal-world/   \n",
       "1   A Ghost Story (2017)  https://letterboxd.com/film/a-ghost-story-2017/   \n",
       "2  Raining Stones (1993)      https://letterboxd.com/film/raining-stones/   \n",
       "3      The Needle (1988)          https://letterboxd.com/film/the-needle/   \n",
       "4        Colorful (2010)            https://letterboxd.com/film/colorful/   \n",
       "\n",
       "            title                                             genres  \\\n",
       "0    Mortal World          [{\"genres\":\"action\"},{\"genres\":\"comedy\"}]   \n",
       "1   A Ghost Story          [{\"genres\":\"drama\"},{\"genres\":\"fantasy\"}]   \n",
       "2  Raining Stones           [{\"genres\":\"comedy\"},{\"genres\":\"drama\"}]   \n",
       "3      The Needle  [{\"genres\":\"mystery\"},{\"genres\":\"drama\"},{\"gen...   \n",
       "4        Colorful  [{\"genres\":\"drama\"},{\"genres\":\"animation\"},{\"g...   \n",
       "\n",
       "                                           image-src  number  \n",
       "0  https://a.ltrbxd.com/resized/film-poster/4/2/9...    5000  \n",
       "1  https://a.ltrbxd.com/resized/sm/upload/zx/51/y...    4999  \n",
       "2  https://a.ltrbxd.com/resized/film-poster/4/3/1...    4998  \n",
       "3  https://a.ltrbxd.com/resized/film-poster/3/8/7...    4997  \n",
       "4  https://a.ltrbxd.com/resized/film-poster/1/8/8...    4996  "
      ]
     },
     "execution_count": 4,
     "metadata": {},
     "output_type": "execute_result"
    }
   ],
   "source": [
    "df.head()"
   ]
  },
  {
   "cell_type": "code",
   "execution_count": 5,
   "id": "6eea8fa3-9772-40f7-be10-e0ea08a4c340",
   "metadata": {},
   "outputs": [
    {
     "name": "stdout",
     "output_type": "stream",
     "text": [
      "action\n"
     ]
    }
   ],
   "source": [
    "row = df.iloc[0]\n",
    "row_genres = json.loads(row.genres)\n",
    "print(row_genres[0][\"genres\"])"
   ]
  },
  {
   "cell_type": "code",
   "execution_count": 6,
   "id": "093266dd-f758-477b-beef-466474fad5b6",
   "metadata": {},
   "outputs": [
    {
     "name": "stderr",
     "output_type": "stream",
     "text": [
      "5000it [00:00, 166692.00it/s]"
     ]
    },
    {
     "name": "stdout",
     "output_type": "stream",
     "text": [
      "{'action': 542, 'comedy': 1334, 'drama': 3438, 'fantasy': 344, 'mystery': 387, 'thriller': 841, 'animation': 241, 'family': 260, 'romance': 1139, 'crime': 801, 'science-fiction': 238, 'adventure': 429, 'western': 154, 'history': 367, 'tv-movie': 42, 'music': 259, 'documentary': 270, 'horror': 279, 'war': 305}\n"
     ]
    },
    {
     "name": "stderr",
     "output_type": "stream",
     "text": [
      "\n"
     ]
    }
   ],
   "source": [
    "genres = {}\n",
    "genres_list = []\n",
    "\n",
    "for row in tqdm(df.itertuples()):\n",
    "    row_genres = json.loads(row.genres)\n",
    "    for genre in row_genres:\n",
    "        a = genre[\"genres\"]\n",
    "        if a not in genres:\n",
    "            genres[a] = 1\n",
    "        else:\n",
    "            genres[a] += 1\n",
    "            \n",
    "        genres_list += [a]\n",
    "            \n",
    "print(genres)"
   ]
  },
  {
   "cell_type": "code",
   "execution_count": 7,
   "id": "ebc831dc-de93-46e3-9d8f-e7b8e96d80ca",
   "metadata": {},
   "outputs": [
    {
     "name": "stderr",
     "output_type": "stream",
     "text": [
      "5000it [00:00, 217513.04it/s]\n"
     ]
    },
    {
     "data": {
      "text/plain": [
       "{'drama': 711,\n",
       " 'western': 46,\n",
       " 'comedy': 124,\n",
       " 'horror': 26,\n",
       " 'music': 2,\n",
       " 'adventure': 6,\n",
       " 'documentary': 166,\n",
       " 'family': 1,\n",
       " 'action': 10,\n",
       " 'thriller': 5,\n",
       " 'science-fiction': 3,\n",
       " 'war': 1,\n",
       " 'romance': 1,\n",
       " 'crime': 3,\n",
       " 'fantasy': 1}"
      ]
     },
     "execution_count": 7,
     "metadata": {},
     "output_type": "execute_result"
    }
   ],
   "source": [
    "unique_genre = {}\n",
    "\n",
    "for row in tqdm(df.itertuples()):\n",
    "    row_genres = json.loads(row.genres)\n",
    "    if len(row_genres) == 1:\n",
    "        a = row_genres[0][\"genres\"]\n",
    "        if a not in unique_genre:\n",
    "            unique_genre[a] = 1\n",
    "        else:\n",
    "            unique_genre[a] += 1\n",
    "            \n",
    "unique_genre"
   ]
  },
  {
   "cell_type": "code",
   "execution_count": 8,
   "id": "c9206d3c-14cb-4be0-97be-f211fed9e698",
   "metadata": {},
   "outputs": [
    {
     "data": {
      "text/plain": [
       "({'action': 0,\n",
       "  'comedy': 1,\n",
       "  'drama': 2,\n",
       "  'fantasy': 3,\n",
       "  'mystery': 4,\n",
       "  'thriller': 5,\n",
       "  'animation': 6,\n",
       "  'family': 7,\n",
       "  'romance': 8,\n",
       "  'crime': 9,\n",
       "  'science-fiction': 10,\n",
       "  'adventure': 11,\n",
       "  'western': 12,\n",
       "  'history': 13,\n",
       "  'tv-movie': 14,\n",
       "  'music': 15,\n",
       "  'documentary': 16,\n",
       "  'horror': 17,\n",
       "  'war': 18},\n",
       " {0: 'action',\n",
       "  1: 'comedy',\n",
       "  2: 'drama',\n",
       "  3: 'fantasy',\n",
       "  4: 'mystery',\n",
       "  5: 'thriller',\n",
       "  6: 'animation',\n",
       "  7: 'family',\n",
       "  8: 'romance',\n",
       "  9: 'crime',\n",
       "  10: 'science-fiction',\n",
       "  11: 'adventure',\n",
       "  12: 'western',\n",
       "  13: 'history',\n",
       "  14: 'tv-movie',\n",
       "  15: 'music',\n",
       "  16: 'documentary',\n",
       "  17: 'horror',\n",
       "  18: 'war'})"
      ]
     },
     "execution_count": 8,
     "metadata": {},
     "output_type": "execute_result"
    }
   ],
   "source": [
    "genre2num = genres\n",
    "num2genre = {}\n",
    "i = 0\n",
    "\n",
    "for genre in genres:\n",
    "    genre2num[genre] = i\n",
    "    num2genre[i] = genre\n",
    "    i += 1\n",
    "    \n",
    "genre2num, num2genre"
   ]
  },
  {
   "cell_type": "code",
   "execution_count": 9,
   "id": "b1f5845a-c28a-4aa0-97da-dc5185b9ceeb",
   "metadata": {},
   "outputs": [
    {
     "data": {
      "image/png": "[encoded data removed]",
      "text/plain": [
       "<Figure size 432x288 with 1 Axes>"
      ]
     },
     "metadata": {
      "needs_background": "light"
     },
     "output_type": "display_data"
    }
   ],
   "source": [
    "val = list(genres.values())\n",
    "names = list(genres.keys())\n",
    "\n",
    "plt.hist(genres_list, bins=range(0,len(names)+2), align='left', rwidth=0.5)\n",
    "plt.title(\"Histogramme du nombre de film par genre\")\n",
    "plt.xlabel(\"genres\")\n",
    "plt.ylabel(\"Nombre de film\")\n",
    "\n",
    "plt.xticks(range(0,len(names)), names, rotation ='vertical', ha='left')\n",
    "\n",
    "plt.show()"
   ]
  },
  {
   "cell_type": "code",
   "execution_count": 10,
   "id": "36d13ba3-3ee6-4a41-8a72-67e70c768e44",
   "metadata": {},
   "outputs": [],
   "source": [
    "def p2(best):\n",
    "    comptages = []\n",
    "    films = []\n",
    "    for n in best:\n",
    "        comptage = 0\n",
    "        best_without_n = [m for m in best if m != n]\n",
    "        for row in df.itertuples():\n",
    "            c = True\n",
    "            d = False\n",
    "            row_genres = json.loads(row.genres)\n",
    "            for genre in row_genres:\n",
    "                if genre2num[genre[\"genres\"]] in best_without_n:\n",
    "                    c = False\n",
    "                    break\n",
    "                if genre2num[genre[\"genres\"]] == n:\n",
    "                    d = True\n",
    "            if c and d:\n",
    "                comptage += 1\n",
    "                films += [{\"film_id\": row.number, \"genre\":num2genre[n], \"image\":row[7]}]\n",
    "        comptages += [comptage]\n",
    "    return comptages,films\n",
    "\n",
    "#p2((0,1,2))"
   ]
  },
  {
   "cell_type": "code",
   "execution_count": 11,
   "id": "09fcec1f-452e-4100-b520-17a08ddda363",
   "metadata": {},
   "outputs": [
    {
     "name": "stderr",
     "output_type": "stream",
     "text": [
      "5000it [00:00, 161104.99it/s]"
     ]
    },
    {
     "name": "stdout",
     "output_type": "stream",
     "text": [
      "[[ 542   99  253   50   20  180   38   17   47  149   76  153   29   46    3    6    1    8   52]\n",
      " [  99 1334  699  114   52   68   71  108  439  140   37  109   18   24   10  108    6   36   40]\n",
      " [ 253  699 3438  157  213  541   68  102  878  561   82  164   57  332   24  129   14   90  251]\n",
      " [  50  114  157  344   25   17   97   89   75    7   24  106    1    2    6   21    1   41    2]\n",
      " [  20   52  213   25  387  220   21    7   39  150   24   13    4    6    2    1    1   82    6]\n",
      " [ 180   68  541   17  220  841   10    0   69  388   49   53    8   25    3    2    0  105   33]\n",
      " [  38   71   68   97   21   10  241  117   26   10   42   91    0    5    4   10    5    5    9]\n",
      " [  17  108  102   89    7    0  117  260   38    3    7  100    3    3    4   16    2    3    2]\n",
      " [  47  439  878   75   39   69   26   38 1139   93   17   61   25   68    5   89    1   11   59]\n",
      " [ 149  140  561    7  150  388   10    3   93  801    3   22    8   17    2    7    8   16    6]\n",
      " [  76   37   82   24   24   49   42    7   17    3  238   68    1    0    4    2    0   47    2]\n",
      " [ 153  109  164  106   13   53   91  100   61   22   68  429   27   37    1   10    3    8   30]\n",
      " [  29   18   57    1    4    8    0    3   25    8    1   27  154    8    1    4    0    0    4]\n",
      " [  46   24  332    2    6   25    5    3   68   17    0   37    8  367    6   12   19    2   87]\n",
      " [   3   10   24    6    2    3    4    4    5    2    4    1    1    6   42    6    3    3    2]\n",
      " [   6  108  129   21    1    2   10   16   89    7    2   10    4   12    6  259   51    1    5]\n",
      " [   1    6   14    1    1    0    5    2    1    8    0    3    0   19    3   51  270    1   12]\n",
      " [   8   36   90   41   82  105    5    3   11   16   47    8    0    2    3    1    1  279    1]\n",
      " [  52   40  251    2    6   33    9    2   59    6    2   30    4   87    2    5   12    1  305]]\n"
     ]
    },
    {
     "name": "stderr",
     "output_type": "stream",
     "text": [
      "\n"
     ]
    }
   ],
   "source": [
    "from sklearn.metrics import confusion_matrix\n",
    "\n",
    "A = []\n",
    "B = []\n",
    "\n",
    "for row in tqdm(df.itertuples()):\n",
    "    row_genres = json.loads(row.genres)\n",
    "    for genre1 in row_genres:\n",
    "        for genre2 in row_genres:\n",
    "            A += [genre2num[genre1[\"genres\"]]]\n",
    "            B += [genre2num[genre2[\"genres\"]]] \n",
    "            \n",
    "confusion_matrix = confusion_matrix(A, B)\n",
    "np.set_printoptions(linewidth=np.inf)\n",
    "print(confusion_matrix)"
   ]
  },
  {
   "cell_type": "code",
   "execution_count": 12,
   "id": "c77f076c-f33b-453d-8a7a-bd586a4cfe61",
   "metadata": {},
   "outputs": [
    {
     "data": {
      "text/plain": [
       "[190, 536, 2486]"
      ]
     },
     "execution_count": 12,
     "metadata": {},
     "output_type": "execute_result"
    }
   ],
   "source": [
    "def p2fast(num, confusion_matrix):\n",
    "    #donne une approximation du nombre de film par classe qui ne sont pas dans les autres classes (erreur du au fait de la matrice de confusion)\n",
    "    comptages = []\n",
    "    for n in num:\n",
    "        comptage = 0\n",
    "        comptage += confusion_matrix[n,n]\n",
    "        num_without_n = [m for m in num if m != n]\n",
    "        for m in num_without_n:\n",
    "            comptage -= confusion_matrix[n,m]\n",
    "        \n",
    "        comptages += [comptage]\n",
    "    return comptages\n",
    "\n",
    "p2fast((0,1,2), confusion_matrix)"
   ]
  },
  {
   "cell_type": "code",
   "execution_count": 13,
   "id": "5870fc8d-d16c-42f9-a365-2629a3ea90f9",
   "metadata": {},
   "outputs": [
    {
     "data": {
      "text/plain": [
       "10.89752497722028"
      ]
     },
     "execution_count": 13,
     "metadata": {},
     "output_type": "execute_result"
    }
   ],
   "source": [
    "def p(confusion_matrix, i, I):\n",
    "    global num2genre\n",
    "    \n",
    "    i1 = i\n",
    "    \n",
    "    b = 0\n",
    "    \n",
    "    for i in I:\n",
    "        b += confusion_matrix[i1,i]\n",
    "        \n",
    "    b -= confusion_matrix[i1,i1]\n",
    "    \n",
    "    if confusion_matrix[i1,i1] < 100: #elimination des classes trop petites\n",
    "        return -np.inf\n",
    "    \n",
    "    a = np.log(confusion_matrix[i1,i1])\n",
    "    \n",
    "    if b != 0:\n",
    "        b = np.log(b)\n",
    "    else:\n",
    "        b = 0\n",
    "    \n",
    "    if num2genre[i1] in unique_genre:\n",
    "        c = np.log(unique_genre[num2genre[i1]] + 1)\n",
    "    else:\n",
    "        c = 0\n",
    "    \n",
    "    x = p2fast(I, confusion_matrix)\n",
    "    mean = np.mean(x)\n",
    "    std = np.mean(x)\n",
    "    \n",
    "    if std <= 0:\n",
    "        xb = 0\n",
    "    else:\n",
    "        xb = np.log(std)\n",
    "    \n",
    "    if mean <= 0:\n",
    "        xa = 0\n",
    "    else:\n",
    "        xa = np.log(mean)\n",
    "    \n",
    "    #return xa - xb\n",
    "\n",
    "    return a - b + xa + xb\n",
    "\n",
    "p(confusion_matrix, 0, [0,1,2,3,4,5])"
   ]
  },
  {
   "cell_type": "code",
   "execution_count": 14,
   "id": "0cad9ca9-6af4-42a9-b07e-4bdcb190c8ee",
   "metadata": {},
   "outputs": [
    {
     "name": "stderr",
     "output_type": "stream",
     "text": [
      "100%|██████████████████████████████████████████████████████████████████████████| 92378/92378 [00:36<00:00, 2517.94it/s]\n"
     ]
    },
    {
     "data": {
      "text/plain": [
       "3262"
      ]
     },
     "execution_count": 14,
     "metadata": {},
     "output_type": "execute_result"
    }
   ],
   "source": [
    "m = -np.inf\n",
    "best = []\n",
    "\n",
    "import itertools\n",
    "\n",
    "ensemble = {i for i in num2genre}\n",
    "sous_parties = list(itertools.combinations(ensemble, 9))\n",
    "\n",
    "for num in tqdm(sous_parties):\n",
    "    s = 0\n",
    "    for n in num:\n",
    "        s += p(confusion_matrix, n, num)\n",
    "\n",
    "    if s>m:\n",
    "        m = s\n",
    "        best = num\n",
    "\n",
    "best_n = {genre:0 for genre in [num2genre[n] for n in best]}\n",
    "number_of_unique_movie = 0\n",
    "\n",
    "for row in df.itertuples():\n",
    "    row_genres = json.loads(row.genres)\n",
    "    for genre in row_genres:\n",
    "        a = genre[\"genres\"]\n",
    "        if a in best_n:\n",
    "            number_of_unique_movie += 1\n",
    "            break\n",
    "            \n",
    "number_of_unique_movie"
   ]
  },
  {
   "cell_type": "code",
   "execution_count": 15,
   "id": "6c52baf8-6553-4de5-a8ef-de52ce5fff38",
   "metadata": {},
   "outputs": [
    {
     "data": {
      "text/plain": [
       "(7, 8, 9, 10, 12, 13, 16, 17, 18)"
      ]
     },
     "execution_count": 15,
     "metadata": {},
     "output_type": "execute_result"
    }
   ],
   "source": [
    "best"
   ]
  },
  {
   "cell_type": "code",
   "execution_count": 16,
   "id": "1982a20f-eaad-42c8-9990-cf7a9eb77b45",
   "metadata": {},
   "outputs": [
    {
     "name": "stdout",
     "output_type": "stream",
     "text": [
      "7 family 260\n",
      "8 romance 1139\n",
      "9 crime 801\n",
      "10 science-fiction 238\n",
      "12 western 154\n",
      "13 history 367\n",
      "16 documentary 270\n",
      "17 horror 279\n",
      "18 war 305\n",
      "\n",
      "moy 423.6666666666667 , var 307.29934736163835 , med 279.0 , min 154 , max 1139 , number_of_unique_movie 3262\n"
     ]
    }
   ],
   "source": [
    "n_genre_choosen = [confusion_matrix[n,n] for n in best]\n",
    "moy = np.mean(n_genre_choosen)\n",
    "var = np.std(n_genre_choosen)\n",
    "med = np.median(n_genre_choosen)\n",
    "m = min(n_genre_choosen)\n",
    "M = max(n_genre_choosen)\n",
    "\n",
    "for n in best:\n",
    "    print(n, num2genre[n], confusion_matrix[n,n])\n",
    "\n",
    "print()\n",
    "print(\"moy\", moy, \", var\", var, \", med\", med, \", min\", m, \", max\", M, \", number_of_unique_movie\", number_of_unique_movie)"
   ]
  },
  {
   "cell_type": "code",
   "execution_count": 72,
   "id": "916059c1-4e51-4ca5-ae0e-fc0c55e98e5b",
   "metadata": {},
   "outputs": [
    {
     "name": "stdout",
     "output_type": "stream",
     "text": [
      "[201, 847, 652, 162, 110, 185, 230, 200, 149] 2736\n"
     ]
    },
    {
     "data": {
      "text/html": [
       "<div>\n",
       "<style scoped>\n",
       "    .dataframe tbody tr th:only-of-type {\n",
       "        vertical-align: middle;\n",
       "    }\n",
       "\n",
       "    .dataframe tbody tr th {\n",
       "        vertical-align: top;\n",
       "    }\n",
       "\n",
       "    .dataframe thead th {\n",
       "        text-align: right;\n",
       "    }\n",
       "</style>\n",
       "<table border=\"1\" class=\"dataframe\">\n",
       "  <thead>\n",
       "    <tr style=\"text-align: right;\">\n",
       "      <th></th>\n",
       "      <th>film_id</th>\n",
       "      <th>genre</th>\n",
       "      <th>image</th>\n",
       "    </tr>\n",
       "  </thead>\n",
       "  <tbody>\n",
       "    <tr>\n",
       "      <th>0</th>\n",
       "      <td>4996</td>\n",
       "      <td>family</td>\n",
       "      <td>https://a.ltrbxd.com/resized/film-poster/1/8/8...</td>\n",
       "    </tr>\n",
       "    <tr>\n",
       "      <th>1</th>\n",
       "      <td>4962</td>\n",
       "      <td>family</td>\n",
       "      <td>https://a.ltrbxd.com/resized/film-poster/1/1/3...</td>\n",
       "    </tr>\n",
       "    <tr>\n",
       "      <th>2</th>\n",
       "      <td>4951</td>\n",
       "      <td>family</td>\n",
       "      <td>https://a.ltrbxd.com/resized/film-poster/4/0/7...</td>\n",
       "    </tr>\n",
       "    <tr>\n",
       "      <th>3</th>\n",
       "      <td>4942</td>\n",
       "      <td>family</td>\n",
       "      <td>https://a.ltrbxd.com/resized/film-poster/4/5/1...</td>\n",
       "    </tr>\n",
       "    <tr>\n",
       "      <th>4</th>\n",
       "      <td>4928</td>\n",
       "      <td>family</td>\n",
       "      <td>https://a.ltrbxd.com/resized/film-poster/3/9/8...</td>\n",
       "    </tr>\n",
       "    <tr>\n",
       "      <th>...</th>\n",
       "      <td>...</td>\n",
       "      <td>...</td>\n",
       "      <td>...</td>\n",
       "    </tr>\n",
       "    <tr>\n",
       "      <th>2731</th>\n",
       "      <td>58</td>\n",
       "      <td>war</td>\n",
       "      <td>https://a.ltrbxd.com/resized/film-poster/5/1/2...</td>\n",
       "    </tr>\n",
       "    <tr>\n",
       "      <th>2732</th>\n",
       "      <td>51</td>\n",
       "      <td>war</td>\n",
       "      <td>https://a.ltrbxd.com/resized/film-poster/5/1/9...</td>\n",
       "    </tr>\n",
       "    <tr>\n",
       "      <th>2733</th>\n",
       "      <td>42</td>\n",
       "      <td>war</td>\n",
       "      <td>https://a.ltrbxd.com/resized/film-poster/5/1/2...</td>\n",
       "    </tr>\n",
       "    <tr>\n",
       "      <th>2734</th>\n",
       "      <td>36</td>\n",
       "      <td>war</td>\n",
       "      <td>https://a.ltrbxd.com/resized/film-poster/2/6/9...</td>\n",
       "    </tr>\n",
       "    <tr>\n",
       "      <th>2735</th>\n",
       "      <td>23</td>\n",
       "      <td>war</td>\n",
       "      <td>https://a.ltrbxd.com/resized/film-poster/5/1/2...</td>\n",
       "    </tr>\n",
       "  </tbody>\n",
       "</table>\n",
       "<p>2736 rows × 3 columns</p>\n",
       "</div>"
      ],
      "text/plain": [
       "      film_id   genre                                              image\n",
       "0        4996  family  https://a.ltrbxd.com/resized/film-poster/1/8/8...\n",
       "1        4962  family  https://a.ltrbxd.com/resized/film-poster/1/1/3...\n",
       "2        4951  family  https://a.ltrbxd.com/resized/film-poster/4/0/7...\n",
       "3        4942  family  https://a.ltrbxd.com/resized/film-poster/4/5/1...\n",
       "4        4928  family  https://a.ltrbxd.com/resized/film-poster/3/9/8...\n",
       "...       ...     ...                                                ...\n",
       "2731       58     war  https://a.ltrbxd.com/resized/film-poster/5/1/2...\n",
       "2732       51     war  https://a.ltrbxd.com/resized/film-poster/5/1/9...\n",
       "2733       42     war  https://a.ltrbxd.com/resized/film-poster/5/1/2...\n",
       "2734       36     war  https://a.ltrbxd.com/resized/film-poster/2/6/9...\n",
       "2735       23     war  https://a.ltrbxd.com/resized/film-poster/5/1/2...\n",
       "\n",
       "[2736 rows x 3 columns]"
      ]
     },
     "execution_count": 72,
     "metadata": {},
     "output_type": "execute_result"
    }
   ],
   "source": [
    "print(p2(best)[0], sum(p2(best)[0]))\n",
    "df_films = pd.DataFrame(p2(best)[1])\n",
    "df_films"
   ]
  },
  {
   "cell_type": "code",
   "execution_count": 18,
   "id": "b3f414dc-9a00-43dc-85a5-a7a77b7a0f36",
   "metadata": {},
   "outputs": [],
   "source": [
    "#df_films.to_csv('films_choisis.csv')"
   ]
  },
  {
   "cell_type": "code",
   "execution_count": 19,
   "id": "c7a713fd-bf80-43e7-818d-3ad76259068c",
   "metadata": {},
   "outputs": [
    {
     "data": {
      "text/plain": [
       "[199, 827, 647, 161, 105, 163, 227, 198, 132]"
      ]
     },
     "execution_count": 19,
     "metadata": {},
     "output_type": "execute_result"
    }
   ],
   "source": [
    "p2fast(best, confusion_matrix)"
   ]
  },
  {
   "cell_type": "code",
   "execution_count": 20,
   "id": "122f1919-d3c9-4348-815a-a0eee6ef6c27",
   "metadata": {},
   "outputs": [],
   "source": [
    "#Creation de la repartition en base de Test, d'évaluation et d'apprentissage (10%, 10%, 80%)"
   ]
  },
  {
   "cell_type": "code",
   "execution_count": 36,
   "id": "48106bf1-92a1-497e-b36f-e853482f32a7",
   "metadata": {},
   "outputs": [
    {
     "name": "stderr",
     "output_type": "stream",
     "text": [
      "2736it [00:00, 684335.13it/s]"
     ]
    },
    {
     "name": "stdout",
     "output_type": "stream",
     "text": [
      "264 264 2208\n"
     ]
    },
    {
     "name": "stderr",
     "output_type": "stream",
     "text": [
      "\n"
     ]
    }
   ],
   "source": [
    "bdd_separate = []\n",
    "films = []\n",
    "test = 0\n",
    "eva = 0\n",
    "appr = 0\n",
    "\n",
    "for row in tqdm(df_films.itertuples()):\n",
    "    \n",
    "    r = rd.random()\n",
    "    \n",
    "    if r < 0.1:\n",
    "        bdd = \"Test\"\n",
    "        test += 1\n",
    "    elif r < 0.2:\n",
    "        bdd = \"Evaluation\"\n",
    "        eva += 1\n",
    "    else:\n",
    "        bdd = \"Apprentissage\"\n",
    "        appr += 1\n",
    "    \n",
    "    films += [{\"film_id\": row.film_id, \"genre\":row.genre, \"image\":row.image, \"bdd\": bdd}]\n",
    "\n",
    "print(test,eva,appr)"
   ]
  },
  {
   "cell_type": "code",
   "execution_count": 37,
   "id": "4c76087e-cea2-40d3-8279-a0dec8fa3a1f",
   "metadata": {},
   "outputs": [
    {
     "data": {
      "text/html": [
       "<div>\n",
       "<style scoped>\n",
       "    .dataframe tbody tr th:only-of-type {\n",
       "        vertical-align: middle;\n",
       "    }\n",
       "\n",
       "    .dataframe tbody tr th {\n",
       "        vertical-align: top;\n",
       "    }\n",
       "\n",
       "    .dataframe thead th {\n",
       "        text-align: right;\n",
       "    }\n",
       "</style>\n",
       "<table border=\"1\" class=\"dataframe\">\n",
       "  <thead>\n",
       "    <tr style=\"text-align: right;\">\n",
       "      <th></th>\n",
       "      <th>film_id</th>\n",
       "      <th>genre</th>\n",
       "      <th>image</th>\n",
       "      <th>bdd</th>\n",
       "    </tr>\n",
       "  </thead>\n",
       "  <tbody>\n",
       "    <tr>\n",
       "      <th>0</th>\n",
       "      <td>4996</td>\n",
       "      <td>family</td>\n",
       "      <td>https://a.ltrbxd.com/resized/film-poster/1/8/8...</td>\n",
       "      <td>Apprentissage</td>\n",
       "    </tr>\n",
       "    <tr>\n",
       "      <th>1</th>\n",
       "      <td>4962</td>\n",
       "      <td>family</td>\n",
       "      <td>https://a.ltrbxd.com/resized/film-poster/1/1/3...</td>\n",
       "      <td>Apprentissage</td>\n",
       "    </tr>\n",
       "    <tr>\n",
       "      <th>2</th>\n",
       "      <td>4951</td>\n",
       "      <td>family</td>\n",
       "      <td>https://a.ltrbxd.com/resized/film-poster/4/0/7...</td>\n",
       "      <td>Test</td>\n",
       "    </tr>\n",
       "    <tr>\n",
       "      <th>3</th>\n",
       "      <td>4942</td>\n",
       "      <td>family</td>\n",
       "      <td>https://a.ltrbxd.com/resized/film-poster/4/5/1...</td>\n",
       "      <td>Evaluation</td>\n",
       "    </tr>\n",
       "    <tr>\n",
       "      <th>4</th>\n",
       "      <td>4928</td>\n",
       "      <td>family</td>\n",
       "      <td>https://a.ltrbxd.com/resized/film-poster/3/9/8...</td>\n",
       "      <td>Apprentissage</td>\n",
       "    </tr>\n",
       "    <tr>\n",
       "      <th>...</th>\n",
       "      <td>...</td>\n",
       "      <td>...</td>\n",
       "      <td>...</td>\n",
       "      <td>...</td>\n",
       "    </tr>\n",
       "    <tr>\n",
       "      <th>2731</th>\n",
       "      <td>58</td>\n",
       "      <td>war</td>\n",
       "      <td>https://a.ltrbxd.com/resized/film-poster/5/1/2...</td>\n",
       "      <td>Evaluation</td>\n",
       "    </tr>\n",
       "    <tr>\n",
       "      <th>2732</th>\n",
       "      <td>51</td>\n",
       "      <td>war</td>\n",
       "      <td>https://a.ltrbxd.com/resized/film-poster/5/1/9...</td>\n",
       "      <td>Apprentissage</td>\n",
       "    </tr>\n",
       "    <tr>\n",
       "      <th>2733</th>\n",
       "      <td>42</td>\n",
       "      <td>war</td>\n",
       "      <td>https://a.ltrbxd.com/resized/film-poster/5/1/2...</td>\n",
       "      <td>Test</td>\n",
       "    </tr>\n",
       "    <tr>\n",
       "      <th>2734</th>\n",
       "      <td>36</td>\n",
       "      <td>war</td>\n",
       "      <td>https://a.ltrbxd.com/resized/film-poster/2/6/9...</td>\n",
       "      <td>Apprentissage</td>\n",
       "    </tr>\n",
       "    <tr>\n",
       "      <th>2735</th>\n",
       "      <td>23</td>\n",
       "      <td>war</td>\n",
       "      <td>https://a.ltrbxd.com/resized/film-poster/5/1/2...</td>\n",
       "      <td>Apprentissage</td>\n",
       "    </tr>\n",
       "  </tbody>\n",
       "</table>\n",
       "<p>2736 rows × 4 columns</p>\n",
       "</div>"
      ],
      "text/plain": [
       "      film_id   genre                                              image  \\\n",
       "0        4996  family  https://a.ltrbxd.com/resized/film-poster/1/8/8...   \n",
       "1        4962  family  https://a.ltrbxd.com/resized/film-poster/1/1/3...   \n",
       "2        4951  family  https://a.ltrbxd.com/resized/film-poster/4/0/7...   \n",
       "3        4942  family  https://a.ltrbxd.com/resized/film-poster/4/5/1...   \n",
       "4        4928  family  https://a.ltrbxd.com/resized/film-poster/3/9/8...   \n",
       "...       ...     ...                                                ...   \n",
       "2731       58     war  https://a.ltrbxd.com/resized/film-poster/5/1/2...   \n",
       "2732       51     war  https://a.ltrbxd.com/resized/film-poster/5/1/9...   \n",
       "2733       42     war  https://a.ltrbxd.com/resized/film-poster/5/1/2...   \n",
       "2734       36     war  https://a.ltrbxd.com/resized/film-poster/2/6/9...   \n",
       "2735       23     war  https://a.ltrbxd.com/resized/film-poster/5/1/2...   \n",
       "\n",
       "                bdd  \n",
       "0     Apprentissage  \n",
       "1     Apprentissage  \n",
       "2              Test  \n",
       "3        Evaluation  \n",
       "4     Apprentissage  \n",
       "...             ...  \n",
       "2731     Evaluation  \n",
       "2732  Apprentissage  \n",
       "2733           Test  \n",
       "2734  Apprentissage  \n",
       "2735  Apprentissage  \n",
       "\n",
       "[2736 rows x 4 columns]"
      ]
     },
     "execution_count": 37,
     "metadata": {},
     "output_type": "execute_result"
    }
   ],
   "source": [
    "df_films = pd.DataFrame(films)\n",
    "df_films"
   ]
  },
  {
   "cell_type": "code",
   "execution_count": 38,
   "id": "96d00ac0-c3a8-4c37-aabb-a5623d04b461",
   "metadata": {},
   "outputs": [],
   "source": [
    "df_films.to_csv('films_choisis.csv')"
   ]
  },
  {
   "cell_type": "code",
   "execution_count": 58,
   "id": "70e56eaa-72b0-45ea-a95a-08c600c11c38",
   "metadata": {},
   "outputs": [
    {
     "name": "stderr",
     "output_type": "stream",
     "text": [
      "2736it [00:00, 684253.52it/s]\n"
     ]
    }
   ],
   "source": [
    "nb_genre_test = []\n",
    "nb_genre_apprentissage = []\n",
    "nb_genre_evaluation = []\n",
    "\n",
    "for row in tqdm(df_films.itertuples()):\n",
    "    bdd = row.bdd\n",
    "    if bdd == \"Test\":\n",
    "        nb_genre_test += [row.genre]\n",
    "    elif bdd == \"Evaluation\":\n",
    "        nb_genre_evaluation += [row.genre]\n",
    "    elif bdd == \"Apprentissage\":\n",
    "        nb_genre_apprentissage += [row.genre]\n",
    "            \n"
   ]
  },
  {
   "cell_type": "code",
   "execution_count": 69,
   "id": "cf3f2cae-2bf1-4a54-99e0-16fa8b3bbafe",
   "metadata": {},
   "outputs": [
    {
     "data": {
      "image/png": "[encoded data removed]",
      "text/plain": [
       "<Figure size 432x288 with 1 Axes>"
      ]
     },
     "metadata": {
      "needs_background": "light"
     },
     "output_type": "display_data"
    }
   ],
   "source": [
    "plt.hist(nb_genre_test, bins=range(0,len(names)+2), align='left', rwidth=0.5)\n",
    "plt.title(\"Histogramme du nombre de film par genre pour la bdd de Test\")\n",
    "plt.xlabel(\"genres\")\n",
    "plt.ylabel(\"Nombre de film\")\n",
    "\n",
    "plt.xticks(range(0,len(names)), names, rotation ='vertical', ha='left')\n",
    "\n",
    "plt.show()"
   ]
  },
  {
   "cell_type": "code",
   "execution_count": 70,
   "id": "e464eaa3-d044-4074-ad93-af893b09872c",
   "metadata": {},
   "outputs": [
    {
     "data": {
      "image/png": "[encoded data removed]",
      "text/plain": [
       "<Figure size 432x288 with 1 Axes>"
      ]
     },
     "metadata": {
      "needs_background": "light"
     },
     "output_type": "display_data"
    }
   ],
   "source": [
    "plt.hist(nb_genre_apprentissage, bins=range(0,len(names)+2), align='left', rwidth=0.5)\n",
    "plt.title(\"Histogramme du nombre de film par genre pour la bdd d'apprentissage\")\n",
    "plt.xlabel(\"genres\")\n",
    "plt.ylabel(\"Nombre de film\")\n",
    "\n",
    "plt.xticks(range(0,len(names)), names, rotation ='vertical', ha='left')\n",
    "\n",
    "plt.show()"
   ]
  },
  {
   "cell_type": "code",
   "execution_count": 71,
   "id": "f9ad9f7c-2ee5-4ac6-a77c-e35b5f6754f4",
   "metadata": {},
   "outputs": [
    {
     "data": {
      "image/png": "[encoded data removed]",
      "text/plain": [
       "<Figure size 432x288 with 1 Axes>"
      ]
     },
     "metadata": {
      "needs_background": "light"
     },
     "output_type": "display_data"
    }
   ],
   "source": [
    "plt.hist(nb_genre_evaluation, bins=range(0,len(names)+2), align='left', rwidth=0.5)\n",
    "plt.title(\"Histogramme du nombre de film par genre pour la bdd d'évaluation\")\n",
    "plt.xlabel(\"genres\")\n",
    "plt.ylabel(\"Nombre de film\")\n",
    "\n",
    "plt.xticks(range(0,len(names)), names, rotation ='vertical', ha='left')\n",
    "\n",
    "plt.show()"
   ]
  },
  {
   "cell_type": "code",
   "execution_count": null,
   "id": "fea35c68-d128-47f2-bbf8-1599cccfbfc1",
   "metadata": {},
   "outputs": [],
   "source": []
  }
 ],
 "metadata": {
  "kernelspec": {
   "display_name": "Python 3 (ipykernel)",
   "language": "python",
   "name": "python3"
  },
  "language_info": {
   "codemirror_mode": {
    "name": "ipython",
    "version": 3
   },
   "file_extension": ".py",
   "mimetype": "text/x-python",
   "name": "python",
   "nbconvert_exporter": "python",
   "pygments_lexer": "ipython3",
   "version": "3.9.4"
  }
 },
 "nbformat": 4,
 "nbformat_minor": 5
}
